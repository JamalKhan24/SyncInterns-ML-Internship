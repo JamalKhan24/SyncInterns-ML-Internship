{
  "nbformat": 4,
  "nbformat_minor": 0,
  "metadata": {
    "colab": {
      "provenance": [],
      "toc_visible": true
    },
    "kernelspec": {
      "name": "python3",
      "display_name": "Python 3"
    },
    "language_info": {
      "name": "python"
    }
  },
  "cells": [
    {
      "cell_type": "markdown",
      "source": [
        "# **Task - 01**\n",
        "# **Create a Chatbot**\n",
        "\n",
        "---\n",
        "\n"
      ],
      "metadata": {
        "id": "o7PiBoxu1MeX"
      }
    },
    {
      "cell_type": "markdown",
      "source": [
        "## Importing the libraries"
      ],
      "metadata": {
        "id": "NV1rH7CL1smb"
      }
    },
    {
      "cell_type": "code",
      "execution_count": 1,
      "metadata": {
        "colab": {
          "base_uri": "https://localhost:8080/"
        },
        "id": "kXiDBKmI05Ft",
        "outputId": "d9b523fa-145a-4bc6-b4b7-bdcf0745d528"
      },
      "outputs": [
        {
          "output_type": "stream",
          "name": "stdout",
          "text": [
            "Requirement already satisfied: nltk in /usr/local/lib/python3.10/dist-packages (3.8.1)\n",
            "Requirement already satisfied: click in /usr/local/lib/python3.10/dist-packages (from nltk) (8.1.7)\n",
            "Requirement already satisfied: joblib in /usr/local/lib/python3.10/dist-packages (from nltk) (1.3.2)\n",
            "Requirement already satisfied: regex>=2021.8.3 in /usr/local/lib/python3.10/dist-packages (from nltk) (2023.6.3)\n",
            "Requirement already satisfied: tqdm in /usr/local/lib/python3.10/dist-packages (from nltk) (4.66.1)\n"
          ]
        }
      ],
      "source": [
        "pip install nltk"
      ]
    },
    {
      "cell_type": "code",
      "source": [
        "import nltk\n",
        "import random\n",
        "from nltk.corpus import wordnet\n",
        "from nltk.tokenize import word_tokenize\n",
        "from nltk.stem import WordNetLemmatizer"
      ],
      "metadata": {
        "id": "gA-WaIou1f_c"
      },
      "execution_count": 2,
      "outputs": []
    },
    {
      "cell_type": "code",
      "source": [
        "nltk.download('punkt')\n",
        "nltk.download('wordnet')"
      ],
      "metadata": {
        "colab": {
          "base_uri": "https://localhost:8080/"
        },
        "id": "KdHDfE-v1ryW",
        "outputId": "fc4bb785-d177-4d4d-c77a-ee0ff71813e4"
      },
      "execution_count": 3,
      "outputs": [
        {
          "output_type": "stream",
          "name": "stderr",
          "text": [
            "[nltk_data] Downloading package punkt to /root/nltk_data...\n",
            "[nltk_data]   Unzipping tokenizers/punkt.zip.\n",
            "[nltk_data] Downloading package wordnet to /root/nltk_data...\n"
          ]
        },
        {
          "output_type": "execute_result",
          "data": {
            "text/plain": [
              "True"
            ]
          },
          "metadata": {},
          "execution_count": 3
        }
      ]
    },
    {
      "cell_type": "markdown",
      "source": [
        "## Defining the patterns"
      ],
      "metadata": {
        "id": "bOK9q3MY3ysH"
      }
    },
    {
      "cell_type": "code",
      "source": [
        "patterns = [\n",
        "    {\n",
        "        \"pattern\": r\"Hi|Hello|Hey|hi|hello|hey\",\n",
        "        \"responses\": [\"Hello!\", \"Hi there!\", \"Hey!\", \"Hi! How can I help you today?\"]\n",
        "    },\n",
        "    {\n",
        "        \"pattern\": r\"How are you|How's it going|how are you|how's it going\",\n",
        "        \"responses\": [\"I'm doing well! Thanks.\", \"I'm good! Thanks for asking that.\"]\n",
        "    },\n",
        "    {\n",
        "        \"pattern\": r\"What is your name|Who are you|what is your name|who are you\",\n",
        "        \"responses\": [\"I am a Chatbot!\", \"I am just a Chatbot.\", \"My name is Jamie.\"]\n",
        "    },\n",
        "    {\n",
        "        \"pattern\": r\"What are you doing|what are you doing\",\n",
        "        \"responses\": [\"I am a Chatbot and I have no pyhsical activity!\"]\n",
        "    },\n",
        "    {\n",
        "        \"pattern\": r\"Bye|Goodbye|See you later|bye|goodbye|see you later\",\n",
        "        \"responses\": [\"Goodbye!\", \"Take care!\", \"See you later!\"]\n",
        "    },\n",
        "    {\n",
        "        \"pattern\": r\"(.*) Thank you (.*)\",\n",
        "        \"responses\": [\"You're welcome!\", \"No problem!\"]\n",
        "    },\n",
        "]"
      ],
      "metadata": {
        "id": "mz0Z3gau1z8y"
      },
      "execution_count": 4,
      "outputs": []
    },
    {
      "cell_type": "markdown",
      "source": [
        "## Creating the Chatbot method"
      ],
      "metadata": {
        "id": "EKA6GP1I16OJ"
      }
    },
    {
      "cell_type": "code",
      "source": [
        "def chatbot_response(user_entered_input):\n",
        "    for pattern_data in patterns:\n",
        "        pattern = pattern_data[\"pattern\"]\n",
        "        responses = pattern_data[\"responses\"]\n",
        "\n",
        "        if nltk.re.search(pattern, user_entered_input):\n",
        "            response = random.choice(responses)\n",
        "            return response\n",
        "\n",
        "    return \"I'm sorry, I didn't get what you are asking.\""
      ],
      "metadata": {
        "id": "TJ3g7JX118iF"
      },
      "execution_count": 5,
      "outputs": []
    },
    {
      "cell_type": "markdown",
      "source": [
        "## Testing the Chatbot"
      ],
      "metadata": {
        "id": "oT8TpOdv2Esf"
      }
    },
    {
      "cell_type": "code",
      "source": [
        "while True:\n",
        "    user_input = input(\"User Input: \")\n",
        "\n",
        "    if user_input.lower() == 'exit':\n",
        "        break\n",
        "\n",
        "    response = chatbot_response(user_input.lower())\n",
        "\n",
        "    print(\"Chatbot Response: \", response)"
      ],
      "metadata": {
        "colab": {
          "base_uri": "https://localhost:8080/"
        },
        "id": "wTyAg1Mo2IPU",
        "outputId": "bcba54ba-b5d5-454e-af5b-a8b95b0ea4db"
      },
      "execution_count": 6,
      "outputs": [
        {
          "name": "stdout",
          "output_type": "stream",
          "text": [
            "User Input: Hi\n",
            "Chatbot Response:  Hi! How can I help you today?\n",
            "User Input: How are you\n",
            "Chatbot Response:  I'm good! Thanks for asking that.\n",
            "User Input: What are you doing\n",
            "Chatbot Response:  I am a Chatbot and I have no pyhsical activity!\n",
            "User Input: Ok, bye\n",
            "Chatbot Response:  Take care!\n",
            "User Input: exit\n"
          ]
        }
      ]
    }
  ]
}